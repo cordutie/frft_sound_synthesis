{
 "cells": [
  {
   "cell_type": "markdown",
   "metadata": {},
   "source": [
    "### **Experiment 2**\n",
    "\n",
    "A type of signal is chosen, and one second is synthesized with various frequencies.\n",
    "\n",
    "The signal is segmented using specified window sizes and hop sizes. The Fractional Fourier Transform (FrFT) of each segment is computed sequentially with angles that increase from 0 to 0.5:\n",
    "$$ \\hat{s}_{\\alpha,n} = \\mathcal{F}_{\\alpha_n} (s_n), \\quad \\text{where } \\alpha_n = \\frac{n}{N}, \\, n = 0, 1, \\ldots, N. $$\n",
    "\n",
    "The transformed segments are then merged using the overlap-and-add algorithm with a Hann window to reconstruct the signal in the time domain. This approach helps in analyzing how different fractional orders affect the signal when processed in segments.\n",
    "\n",
    "**Remarks:**\n",
    "1. The use of different window sizes and hop sizes can significantly impact the results\n",
    "2. The Hann window is chosen for its properties in minimizing spectral leakage and ensuring smooth transitions between segments."
   ]
  },
  {
   "cell_type": "code",
   "execution_count": null,
   "metadata": {},
   "outputs": [],
   "source": [
    "from auxiliar import *\n",
    "\n",
    "def experiment_2(frequencies, angles, windows_size, hop_length, complex_part, window_type_input=\"rectangular\", window_type_output=\"hann\",fs=44100):\n",
    "    maker = make_sinusoid if input_type == \"sinusoid\" else make_triangle_wave if input_type == \"triangle\" else make_square_wave if input_type == \"square\" else make_sawtooth_wave if input_type == \"sawtooth\" else ValueError(\"Invalid input type\")\n",
    "    outputs_dict = []\n",
    "    for freq in frequencies:\n",
    "        sinusoid = maker(freq, 2, fs)\n",
    "        name = f\"Freq: {freq}\"\n",
    "        sound = frft_windowed(sinusoid, windows_size, hop_length, angles, complex_part, window_type_input, window_type_output)\n",
    "        outputs_dict.append([[name, sound]])\n",
    "    create_audio_grid(outputs_dict, len(frequencies), 1)\n",
    "\n",
    "# Type of input\n",
    "input_type = \"sinusoid\"\n",
    "\n",
    "# Frequencies and angles\n",
    "frequencies      = [55, 220, 880]\n",
    "angles_start_end = [0.0, 0.499]\n",
    "\n",
    "# Windows size = 2048, hop_length = 1024\n",
    "windows_size, hop_length = 2048, 1024\n",
    "print(\"Experiment 2: Windows size = 2048, hop_length = 1024, complex part = real part\")\n",
    "experiment_2(frequencies, angles_start_end, windows_size, hop_length, \"real_part\")\n",
    "\n",
    "# Windows size = 8192, hop_length = 4096\n",
    "windows_size, hop_length = 8192, 4096\n",
    "print(\"Experiment 2: Windows size = 8192, hop_length = 4096, complex part = real part\")\n",
    "experiment_2(frequencies, angles_start_end, windows_size, hop_length, \"real_part\")\n",
    "\n",
    "# Windows size = 16384, hop_length = 8192\n",
    "windows_size, hop_length = 16384, 8192\n",
    "print(\"Experiment 2: Windows size = 16384, hop_length = 8192, complex part = real part\")\n",
    "experiment_2(frequencies, angles_start_end, windows_size, hop_length, \"real_part\")"
   ]
  },
  {
   "cell_type": "code",
   "execution_count": null,
   "metadata": {},
   "outputs": [],
   "source": [
    "from auxiliar import *\n",
    "from IPython.display import Audio, display\n",
    "\n",
    "def sound_list_maker(freq, angles, windows_size, hop_length, complex_part=\"real_part\", window_type_input=\"rectangular\", window_type_output=\"hann\",fs=44100):\n",
    "    maker = make_sinusoid\n",
    "    list_of_sounds = []\n",
    "    sinusoid = maker(freq, 2, fs)\n",
    "    list_of_sounds.append(sinusoid)\n",
    "    for windows_size, hop_length in zip(windows_size, hop_length):\n",
    "        sound = frft_windowed(sinusoid, windows_size, hop_length, angles, complex_part, window_type_input, window_type_output)\n",
    "        list_of_sounds.append(sound)\n",
    "    return list_of_sounds\n",
    "\n",
    "def video_maker(freq, angles, windows_size, hop_length, fs=44100):\n",
    "    list_of_sounds = sound_list_maker(freq, angles, windows_size, hop_length)\n",
    "    silence = np.zeros(fs//2)\n",
    "    output  = np.zeros(0)\n",
    "    for sound in list_of_sounds:\n",
    "        output = np.concatenate((output, sound, silence))\n",
    "    output = np.concatenate((output, silence))\n",
    "    # play output using Display(Audio) from ipd\n",
    "    display(Audio(output, rate=fs))\n",
    "    return output\n",
    "    \n",
    "# Frequencies and angles\n",
    "frequencies      = [55, 220, 880]\n",
    "angles_start_end = [0.0, 0.499]\n",
    "windows_size, hop_length = [2048, 2048*2, 2048*4, 2048*8], [1024, 1024*2, 1024*4, 1024*8]\n",
    "\n",
    "sounds = []\n",
    "\n",
    "for freq in frequencies:\n",
    "    name = f\"Freq_{freq}\"\n",
    "    output = video_maker(freq, angles_start_end, windows_size, hop_length)\n",
    "    sounds.append([name, output])\n",
    "\n",
    "print(len(sounds))\n"
   ]
  },
  {
   "cell_type": "code",
   "execution_count": null,
   "metadata": {},
   "outputs": [],
   "source": [
    "# spectrogram representation videos\n",
    "for name, sound in sounds:\n",
    "    create_spectrogram_video(sound, 44100, f\"spectrogram_{name}_alplha_manipulation.mp4\", window_seconds=2)\n",
    "    print(f\"Video {name}.mp4 created\")"
   ]
  },
  {
   "cell_type": "code",
   "execution_count": null,
   "metadata": {},
   "outputs": [],
   "source": [
    "# specrtrum representation videos\n",
    "for name, sound in sounds:\n",
    "    create_spectrum_video(sound, 44100, f\"spectrum_{name}_alplha_manipulation.mp4\", figsize=(14, 10))\n",
    "    print(f\"Video for {name} created\")"
   ]
  }
 ],
 "metadata": {
  "kernelspec": {
   "display_name": "frft_venv",
   "language": "python",
   "name": "python3"
  },
  "language_info": {
   "codemirror_mode": {
    "name": "ipython",
    "version": 3
   },
   "file_extension": ".py",
   "mimetype": "text/x-python",
   "name": "python",
   "nbconvert_exporter": "python",
   "pygments_lexer": "ipython3",
   "version": "3.11.11"
  }
 },
 "nbformat": 4,
 "nbformat_minor": 2
}
