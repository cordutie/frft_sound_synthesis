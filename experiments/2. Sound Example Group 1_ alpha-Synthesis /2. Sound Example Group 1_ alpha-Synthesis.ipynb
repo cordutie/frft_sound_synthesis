{
 "cells": [
  {
   "cell_type": "markdown",
   "metadata": {},
   "source": [
    "### **Experiment 1**\n",
    "\n",
    "A type of signal is chosen and one second is synthesized with various frequencies. For example, in case of using sinusoid of frequency $f$ and sampling rate $sr$\n",
    "$$ s[t] = \\sin(2\\pi f t/sr), \\quad \\text{for } t = 0, \\dots, sr. $$\n",
    "The FrFT of the synthesized signals are computed using different angles\n",
    "$$ \\hat{s}_\\alpha = \\mathcal{F}_\\alpha (s). $$\n",
    "Real and Imaginary parts of the transformed signals are displayed.\n",
    "\n",
    "Remarks: \n",
    "1. This experiment is also implemented to work in windows in case of using long signals. Results using different windows sized can be radically different."
   ]
  },
  {
   "cell_type": "code",
   "execution_count": null,
   "metadata": {},
   "outputs": [],
   "source": [
    "# All necessary code is imported.\n",
    "from auxiliar import *\n",
    "\n",
    "def experiment_1(frequencies, angles, windows_size, hop_length, complex_part, window_type_input=\"rectangular\", window_type_output=\"hann\",fs=44100):\n",
    "    maker = make_sinusoid if input_type == \"sinusoid\" else make_triangle_wave if input_type == \"triangle\" else make_square_wave if input_type == \"square\" else make_sawtooth_wave if input_type == \"sawtooth\" else ValueError(\"Invalid input type\")\n",
    "    outputs_dict = []\n",
    "    for freq in frequencies:\n",
    "        sinusoid = maker(freq, 1, fs)\n",
    "        freq_list = []\n",
    "        for angle in angles:\n",
    "            name = f\"Freq: {freq}, Angle: {angle}\"\n",
    "            sound = frft_windowed(sinusoid, windows_size, hop_length, angle, complex_part, window_type_input, window_type_output)\n",
    "            freq_list.append([name, sound])\n",
    "        outputs_dict.append(freq_list)\n",
    "    create_audio_grid(outputs_dict, len(frequencies), len(angles))\n",
    "    return outputs_dict\n",
    "\n",
    "# Type of input\n",
    "input_type = \"sinusoid\" # Also possible to use triangle, square and sawtooth\n",
    "\n",
    "# Frequencies and angles\n",
    "frequencies = [55, 220, 880]\n",
    "angles      = [0.0, 0.01, 0.05, 0.1, 0.25, 0.499]\n",
    "\n",
    "# Windows size = 44100, hop_length = 44100\n",
    "windows_size, hop_length = 44100, 44100\n",
    "print(\"Experiment 1: Windows size = 44100, hop_length = 44100, complex part = real part\")\n",
    "outputs_dict = experiment_1(frequencies, angles, windows_size, hop_length, \"real_part\")\n",
    "windows_size, hop_length = 44100//2, 44100//4\n",
    "print(\"Experiment 1: Windows size = 22050, hop_length = 11025, complex part = real part\")\n",
    "outputs_dict = experiment_1(frequencies, angles, windows_size, hop_length, \"real_part\")\n"
   ]
  },
  {
   "cell_type": "code",
   "execution_count": null,
   "metadata": {},
   "outputs": [],
   "source": [
    "from auxiliar import *\n",
    "from IPython.display import Audio, display\n",
    "\n",
    "def sound_list_maker(freq, angles, windows_size, hop_length, complex_part=\"real_part\", window_type_input=\"rectangular\", window_type_output=\"hann\",fs=44100):\n",
    "    maker = make_sinusoid\n",
    "    list_of_sounds = []\n",
    "    sinusoid = maker(freq, 1, fs)\n",
    "    for angle in angles:\n",
    "        sound = frft_windowed(sinusoid, windows_size, hop_length, angle, complex_part, window_type_input, window_type_output)\n",
    "        list_of_sounds.append(sound)\n",
    "    return list_of_sounds\n",
    "\n",
    "def sound_experiment(freq, angles, windows_size, hop_length, fs=44100):\n",
    "    list_of_sounds = sound_list_maker(freq, angles, windows_size, hop_length)\n",
    "    silence = np.zeros(fs//2)\n",
    "    output  = np.zeros(0)\n",
    "    for sound in list_of_sounds:\n",
    "        output = np.concatenate((output, sound, silence))\n",
    "    output = np.concatenate((output, silence))\n",
    "    # play output using Display(Audio) from ipd\n",
    "    display(Audio(output, rate=fs))\n",
    "    return output\n",
    "    \n",
    "# Frequencies and angles\n",
    "frequencies = [55, 220, 880]\n",
    "angles      = [0.0, 0.01, 0.05, 0.1, 0.25, 0.499]\n",
    "\n",
    "sounds = []\n",
    "\n",
    "windows_size, hop_length = 44100, 44100\n",
    "for freq in frequencies:\n",
    "    name = f\"Freq_{freq}_windows_size_44100_hop_length_44100\"\n",
    "    print(name)\n",
    "    output = sound_experiment(freq, angles, windows_size, hop_length)\n",
    "    sounds.append([name, output])\n",
    "\n",
    "windows_size, hop_length = 44100//2, 44100//4\n",
    "for freq in frequencies:\n",
    "    name = f\"Freq_{freq}_windows_size_22050_hop_length_11025\"\n",
    "    print(name)\n",
    "    output = sound_experiment(freq, angles, windows_size, hop_length)\n",
    "    sounds.append([name, output])\n",
    "\n",
    "print(len(sounds))\n"
   ]
  },
  {
   "cell_type": "code",
   "execution_count": 3,
   "metadata": {},
   "outputs": [],
   "source": [
    "# spectrogram representation videos\n",
    "\n",
    "for name, sound in sounds:\n",
    "    create_spectrogram_video(sound, 44100, f\"spectrogram_{name}.mp4\", window_seconds=2)\n",
    "    print(f\"Video {name}.mp4 created\")"
   ]
  },
  {
   "cell_type": "code",
   "execution_count": null,
   "metadata": {},
   "outputs": [],
   "source": [
    "# specrtrum representation videos\n",
    "\n",
    "for name, sound in sounds:\n",
    "    create_spectrum_video(sound, 44100, f\"spectrum_{name}.mp4\", figsize=(14, 10))\n",
    "    print(f\"Video for {name} created\")"
   ]
  }
 ],
 "metadata": {
  "kernelspec": {
   "display_name": "frft_venv",
   "language": "python",
   "name": "python3"
  },
  "language_info": {
   "codemirror_mode": {
    "name": "ipython",
    "version": 3
   },
   "file_extension": ".py",
   "mimetype": "text/x-python",
   "name": "python",
   "nbconvert_exporter": "python",
   "pygments_lexer": "ipython3",
   "version": "3.11.11"
  }
 },
 "nbformat": 4,
 "nbformat_minor": 2
}
