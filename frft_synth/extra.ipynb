{
 "cells": [
  {
   "cell_type": "code",
   "execution_count": null,
   "metadata": {},
   "outputs": [],
   "source": [
    "from auxiliar import *\n",
    "import torch\n",
    "import librosa\n",
    "\n",
    "def frft_angle_manipulation(signal, angles, windows_size, hop_length, complex_part=\"real_part\", window_type_input=\"rectangular\", window_type_output=\"hann\",fs=44100):\n",
    "    for windows_size, hop_length in zip(windows_size, hop_length):\n",
    "        output = frft_windowed(signal, windows_size, hop_length, angles, complex_part, window_type_input, window_type_output)\n",
    "        print(f\"Angle: {angle}, Window size: {windows_size}, Hop length: {hop_length}\")\n",
    "        display(Audio(output, rate=fs))\n",
    "    \n",
    "angles = [0.01, 0.05, 0.1]\n",
    "windows_size, hop_length = [2048, 2048*2, 2048*4], [1024, 1024*2, 1024*4]\n",
    "\n",
    "#read with librosa\n",
    "# for files in folder path\n",
    "for file in os.listdir(\"../sounds/\"):\n",
    "    if file.endswith(\".wav\"):\n",
    "        print(f\"Processing {file}\")\n",
    "        signal = librosa.load(os.path.join(\"../sounds/\", file), sr=44100, mono=True)[0]\n",
    "        signal = torch.tensor(signal)\n",
    "        signal = signal[:44100*5]  # 5 seconds of audio\n",
    "        print(f\"Original Signal\")\n",
    "        display(Audio(signal.cpu().numpy(), rate=44100))\n",
    "        for angle in angles:\n",
    "            frft_angle_manipulation(signal, angle, windows_size, hop_length, complex_part=\"real_part\", window_type_input=\"rectangular\", window_type_output=\"hann\", fs=44100)"
   ]
  }
 ],
 "metadata": {
  "kernelspec": {
   "display_name": "frft_venv",
   "language": "python",
   "name": "python3"
  },
  "language_info": {
   "codemirror_mode": {
    "name": "ipython",
    "version": 3
   },
   "file_extension": ".py",
   "mimetype": "text/x-python",
   "name": "python",
   "nbconvert_exporter": "python",
   "pygments_lexer": "ipython3",
   "version": "3.11.11"
  }
 },
 "nbformat": 4,
 "nbformat_minor": 2
}
